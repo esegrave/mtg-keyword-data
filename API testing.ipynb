{
 "cells": [
  {
   "cell_type": "code",
   "execution_count": 1,
   "metadata": {},
   "outputs": [],
   "source": [
    "# imports \n",
    "from mtgsdk import Card\n",
    "import config\n",
    "import pandas as pd\n",
    "\n",
    "#initialize empty feature sets\n",
    "nameSet = []\n",
    "setSet = []\n",
    "colorSet = []\n",
    "keywordSet = []"
   ]
  },
  {
   "cell_type": "code",
   "execution_count": 14,
   "metadata": {},
   "outputs": [
    {
     "name": "stdout",
     "output_type": "stream",
     "text": [
      "15\n",
      "Rules Lawyer\n",
      "UST\n",
      "0196f9bc90cb76748c9d8ca2dc72a046b1ce5123\n",
      "Ankle Shanker\n",
      "pPRE\n",
      "d051d2b9c600ee8c7b12bc5a666c18b9a3676ce4\n",
      "Ankle Shanker\n",
      "pMEI\n",
      "efec5c8999381f872044947223593f270d94d68e\n",
      "Queen Marchesa\n",
      "CN2\n",
      "1508a7c784b8d87fd21702bd6d8a40f66a7fa8ed\n",
      "Atraxa, Praetors' Voice\n",
      "CM2\n",
      "914692136bfb471694ea5b774d2a68b0e5514aef\n",
      "Atraxa, Praetors' Voice\n",
      "C16\n",
      "2eeaa0658cd1d5c56aa2f3adfaa7dbffe1b7ccbe\n",
      "Ankle Shanker\n",
      "C16\n",
      "fd58d4762462c21a5f3c4dd996252f42f90fd973\n",
      "Sydri, Galvanic Genius\n",
      "C16\n",
      "ede230dfb1f19b6194a26af3de77ae62af865aa2\n",
      "Sydri, Galvanic Genius\n",
      "C13\n",
      "0d3a49dfd06b254d03ebda42b1d13f6c5dbe17a8\n",
      "Odric, Lunarch Marshal\n",
      "SOI\n",
      "3cb8c42724f03efd1bbe568ab3b00529f89e5b43\n",
      "Ayli, Eternal Pilgrim\n",
      "OGW\n",
      "ab221d9c7f9299b2712e871a6f6428054231111f\n",
      "Mardu Hateblade\n",
      "KTK\n",
      "f2706f7cf45185a94478a61180e4b64a01e71f0d\n",
      "Ankle Shanker\n",
      "KTK\n",
      "01dd205d4296781834aac21e3fc92b5c271a2cd7\n",
      "Unraveling Mummy\n",
      "HOU\n",
      "de4eaeb3360b93477f3c12bc622b6659936a6f1f\n",
      "Arvad the Cursed\n",
      "DOM\n",
      "f94ebaef65346da697b637c2b763b39e6eff7341\n"
     ]
    }
   ],
   "source": [
    "#test card pull\n",
    "cards = Card.where(types='creature') \\\n",
    "    .where(colors='white') \\\n",
    "    .where(text='deathtouch') \\\n",
    "    .all()\n",
    "print(len(cards))\n",
    "for card in cards:\n",
    "    print(card.name)\n",
    "    print(card.set)\n",
    "    print(card.id)"
   ]
  },
  {
   "cell_type": "code",
   "execution_count": 15,
   "metadata": {},
   "outputs": [
    {
     "name": "stdout",
     "output_type": "stream",
     "text": [
      "3150\n"
     ]
    }
   ],
   "source": [
    "#loop through keywords and colors, appending ids to list\n",
    "for keyword in config.keywords:\n",
    "    for color in config.colors:\n",
    "        cards = Card.where(types='creature') \\\n",
    "        .where(colors=config.colors[0]) \\\n",
    "        .where(text=config.keywords[0]) \\\n",
    "        .all()\n",
    "        for card in cards:\n",
    "            nameSet.append(card.name)\n",
    "            setSet.append(card.set)\n",
    "            colorSet.append(color)\n",
    "            keywordSet.append(keyword)\n",
    "print(len(ids))"
   ]
  },
  {
   "cell_type": "code",
   "execution_count": null,
   "metadata": {},
   "outputs": [],
   "source": []
  }
 ],
 "metadata": {
  "kernelspec": {
   "display_name": "Python 3",
   "language": "python",
   "name": "python3"
  },
  "language_info": {
   "codemirror_mode": {
    "name": "ipython",
    "version": 3
   },
   "file_extension": ".py",
   "mimetype": "text/x-python",
   "name": "python",
   "nbconvert_exporter": "python",
   "pygments_lexer": "ipython3",
   "version": "3.7.0"
  }
 },
 "nbformat": 4,
 "nbformat_minor": 2
}
