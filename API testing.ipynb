{
 "cells": [
  {
   "cell_type": "code",
   "execution_count": 11,
   "metadata": {},
   "outputs": [
    {
     "name": "stdout",
     "output_type": "stream",
     "text": [
      "Narset, Enlightened Master\n"
     ]
    }
   ],
   "source": [
    "from mtgsdk import Card\n",
    "\n",
    "card = Card.find(386616)\n",
    "print(card.name)"
   ]
  },
  {
   "cell_type": "code",
   "execution_count": 20,
   "metadata": {},
   "outputs": [
    {
     "name": "stdout",
     "output_type": "stream",
     "text": [
      "31\n",
      "2f04f6f5a1aab7b29625341f9e6c0af5ec4a6cb8\n",
      "1a1e082d7881631b5d86e529e7855f1b49429dbd\n",
      "98ed2734d6ee48596872e57c5f63123fa0e06f31\n",
      "e42cddacb84f4ebc6ba51dd6e9fb2b316a436f11\n",
      "d7b269d92a79e82321bc757193fb06535724ca61\n",
      "35d044cbe2470bbf238b1fbc1fb77c012d5c492d\n",
      "922d43a96f0333be609cd668be15971441896682\n",
      "a445e13c50fc63b31fb64d847d48281c0ab11ca5\n",
      "e758e2ecd9a48337b076a425bcf4093d184da81b\n",
      "57b5216e78ec18daac7e74ba2a4a294be48c3c9e\n",
      "cfe91820d36b17a733354ea5a61008206c0c2178\n",
      "4d95ae8f5324ae26a42055b522a89142f48c9608\n"
     ]
    }
   ],
   "source": [
    "cards = Card.where(types='creature') \\\n",
    "    .where(colors='blue') \\\n",
    "    .where(text='first strike,') \\\n",
    "    .all()\n",
    "print(len(cards))\n",
    "for card in cards:\n",
    "    if card.colors == ['Blue']:\n",
    "        print(card.id)"
   ]
  },
  {
   "cell_type": "code",
   "execution_count": null,
   "metadata": {},
   "outputs": [],
   "source": []
  }
 ],
 "metadata": {
  "kernelspec": {
   "display_name": "Python 3",
   "language": "python",
   "name": "python3"
  },
  "language_info": {
   "codemirror_mode": {
    "name": "ipython",
    "version": 3
   },
   "file_extension": ".py",
   "mimetype": "text/x-python",
   "name": "python",
   "nbconvert_exporter": "python",
   "pygments_lexer": "ipython3",
   "version": "3.7.0"
  }
 },
 "nbformat": 4,
 "nbformat_minor": 2
}
